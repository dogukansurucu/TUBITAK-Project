{
 "cells": [
  {
   "cell_type": "code",
   "execution_count": 1,
   "id": "5f6dd0ba-cc66-4ce7-9fad-f93d0c3e1cbf",
   "metadata": {},
   "outputs": [
    {
     "name": "stderr",
     "output_type": "stream",
     "text": [
      "C:\\Users\\DOGUKAN\\anaconda3\\envs\\tensorflow\\lib\\site-packages\\statsmodels\\tsa\\base\\tsa_model.py:473: ValueWarning: No frequency information was provided, so inferred frequency D will be used.\n",
      "  self._init_dates(dates, freq)\n",
      "C:\\Users\\DOGUKAN\\anaconda3\\envs\\tensorflow\\lib\\site-packages\\statsmodels\\tsa\\base\\tsa_model.py:473: ValueWarning: No frequency information was provided, so inferred frequency D will be used.\n",
      "  self._init_dates(dates, freq)\n",
      "C:\\Users\\DOGUKAN\\anaconda3\\envs\\tensorflow\\lib\\site-packages\\statsmodels\\base\\model.py:607: ConvergenceWarning: Maximum Likelihood optimization failed to converge. Check mle_retvals\n",
      "  warnings.warn(\"Maximum Likelihood optimization failed to \"\n"
     ]
    },
    {
     "name": "stdout",
     "output_type": "stream",
     "text": [
      "                                      SARIMAX Results                                      \n",
      "===========================================================================================\n",
      "Dep. Variable:     İstanbul günlük tüketim(m³/gün)   No. Observations:                 3771\n",
      "Model:               SARIMAX(1, 1, 1)x(1, 1, 1, 7)   Log Likelihood                8233.132\n",
      "Date:                             Tue, 30 Apr 2024   AIC                         -16456.264\n",
      "Time:                                     20:46:53   BIC                         -16425.099\n",
      "Sample:                                 01-01-2011   HQIC                        -16445.182\n",
      "                                      - 04-28-2021                                         \n",
      "Covariance Type:                               opg                                         \n",
      "==============================================================================\n",
      "                 coef    std err          z      P>|z|      [0.025      0.975]\n",
      "------------------------------------------------------------------------------\n",
      "ar.L1          0.5343      0.014     38.412      0.000       0.507       0.562\n",
      "ma.L1         -0.9002      0.009    -96.363      0.000      -0.918      -0.882\n",
      "ar.S.L7        0.0801      0.015      5.228      0.000       0.050       0.110\n",
      "ma.S.L7       -0.9922      0.004   -273.476      0.000      -0.999      -0.985\n",
      "sigma2         0.0007   8.34e-06     87.595      0.000       0.001       0.001\n",
      "===================================================================================\n",
      "Ljung-Box (L1) (Q):                   1.11   Jarque-Bera (JB):              7442.94\n",
      "Prob(Q):                              0.29   Prob(JB):                         0.00\n",
      "Heteroskedasticity (H):               0.83   Skew:                            -1.12\n",
      "Prob(H) (two-sided):                  0.00   Kurtosis:                         9.52\n",
      "===================================================================================\n",
      "\n",
      "Warnings:\n",
      "[1] Covariance matrix calculated using the outer product of gradients (complex-step).\n",
      "Mean Squared Error (MSE): 0.0174\n",
      "Root Mean Squared Error (RMSE): 0.1321\n",
      "Mean Absolute Error (MAE): 0.1170\n",
      "Mean Absolute Percentage Error (MAPE): 1.1300\n"
     ]
    }
   ],
   "source": [
    "import pandas as pd\n",
    "import numpy as np\n",
    "import matplotlib.pyplot as plt\n",
    "import seaborn as sns\n",
    "from statsmodels.tsa.statespace.sarimax import SARIMAX\n",
    "from sklearn.metrics import mean_squared_error, mean_absolute_error, mean_absolute_percentage_error\n",
    "\n",
    "# Veri setini yükleme ve hazırlama\n",
    "df = pd.read_excel(\"rainfall-and-daily-consumption-data-on-istanbul-dams.xlsx\")\n",
    "df = df[['Tarih', 'İstanbul günlük tüketim(m³/gün)']]\n",
    "df = df.set_index(\"Tarih\")\n",
    "df.index = pd.to_datetime(df.index)\n",
    "df['İstanbul günlük tüketim(m³/gün)'] = df['İstanbul günlük tüketim(m³/gün)'] // 100\n",
    "df['İstanbul günlük tüketim(m³/gün)'] = df['İstanbul günlük tüketim(m³/gün)'].astype(float)\n",
    "df = np.log(df)\n",
    "\n",
    "# Eğitim ve test setlerini oluşturma\n",
    "train_size = int(len(df) * 0.80)\n",
    "train, test = df.iloc[:train_size], df.iloc[train_size:]\n",
    "\n",
    "# SARIMAX modelini oluşturma\n",
    "order = (1, 1, 1)  # (p, d, q) değerleri\n",
    "seasonal_order = (1, 1, 1, 7)  # (P, D, Q, s) değerleri\n",
    "sarimax_model = SARIMAX(train['İstanbul günlük tüketim(m³/gün)'], order=order, seasonal_order=seasonal_order)\n",
    "sarimax_model_fit = sarimax_model.fit(disp=False)\n",
    "print(sarimax_model_fit.summary())\n",
    "\n",
    "# Test seti üzerinde tahmin yapma\n",
    "predictions = sarimax_model_fit.predict(start=test.index[0], end=test.index[-1])\n",
    "\n",
    "# Hataları hesaplama\n",
    "mse = mean_squared_error(test['İstanbul günlük tüketim(m³/gün)'], predictions)\n",
    "print(\"Mean Squared Error (MSE): {:.4f}\".format(mse))\n",
    "\n",
    "rmse = np.sqrt(mse)\n",
    "print(\"Root Mean Squared Error (RMSE): {:.4f}\".format(rmse))\n",
    "\n",
    "mae = mean_absolute_error(test['İstanbul günlük tüketim(m³/gün)'], predictions)\n",
    "print(\"Mean Absolute Error (MAE): {:.4f}\".format(mae))\n",
    "\n",
    "mape = mean_absolute_percentage_error(test['İstanbul günlük tüketim(m³/gün)'], predictions)\n",
    "print(\"Mean Absolute Percentage Error (MAPE): {:.4f}\".format(mape*100))\n"
   ]
  },
  {
   "cell_type": "code",
   "execution_count": 3,
   "id": "550aabf8-5232-443b-8d57-86bb6c54499d",
   "metadata": {},
   "outputs": [
    {
     "data": {
      "text/plain": [
       "2021-04-29    10.215629\n",
       "2021-04-30    10.214520\n",
       "2021-05-01    10.218218\n",
       "2021-05-02    10.229681\n",
       "2021-05-03    10.222533\n",
       "                ...    \n",
       "2023-11-23    10.191004\n",
       "2023-11-24    10.187286\n",
       "2023-11-25    10.193093\n",
       "2023-11-26    10.206800\n",
       "2023-11-27    10.195402\n",
       "Freq: D, Name: predicted_mean, Length: 943, dtype: float64"
      ]
     },
     "execution_count": 3,
     "metadata": {},
     "output_type": "execute_result"
    }
   ],
   "source": [
    "predictions"
   ]
  },
  {
   "cell_type": "code",
   "execution_count": 4,
   "id": "40380bf3-dffb-49c3-8e80-08ef5779553d",
   "metadata": {},
   "outputs": [],
   "source": [
    "pred8=predictions"
   ]
  },
  {
   "cell_type": "code",
   "execution_count": 5,
   "id": "cde3b4df-a232-46ca-ae79-330b4249c0b9",
   "metadata": {},
   "outputs": [
    {
     "data": {
      "text/plain": [
       "943"
      ]
     },
     "execution_count": 5,
     "metadata": {},
     "output_type": "execute_result"
    }
   ],
   "source": [
    "len(pred8)"
   ]
  },
  {
   "cell_type": "code",
   "execution_count": 6,
   "id": "725280dd-8544-4894-bba2-f7874511a214",
   "metadata": {},
   "outputs": [],
   "source": [
    "pred8=np.array(pred8)"
   ]
  }
 ],
 "metadata": {
  "kernelspec": {
   "display_name": "Python 3 (ipykernel)",
   "language": "python",
   "name": "python3"
  },
  "language_info": {
   "codemirror_mode": {
    "name": "ipython",
    "version": 3
   },
   "file_extension": ".py",
   "mimetype": "text/x-python",
   "name": "python",
   "nbconvert_exporter": "python",
   "pygments_lexer": "ipython3",
   "version": "3.9.18"
  }
 },
 "nbformat": 4,
 "nbformat_minor": 5
}
