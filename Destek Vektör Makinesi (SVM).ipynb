{
 "cells": [
  {
   "cell_type": "code",
   "execution_count": 62,
   "id": "e7132e45-905a-4412-8e17-5937bb317ef6",
   "metadata": {},
   "outputs": [],
   "source": [
    "import pandas as pd\n",
    "import numpy as np\n",
    "import matplotlib.pyplot as plt\n",
    "import seaborn as sns\n",
    "from catboost import CatBoostRegressor\n",
    "import catboost as cat\n",
    "from sklearn.model_selection import train_test_split,GridSearchCV\n",
    "from sklearn.metrics import r2_score, mean_absolute_error, mean_squared_error"
   ]
  },
  {
   "cell_type": "code",
   "execution_count": 63,
   "id": "cbda6727-ba7e-4258-878d-0317529d617b",
   "metadata": {},
   "outputs": [],
   "source": [
    "df=pd.read_excel(\"rainfall-and-daily-consumption-data-on-istanbul-dams.xlsx\")"
   ]
  },
  {
   "cell_type": "code",
   "execution_count": 49,
   "id": "cb3cc9b5-eca0-4f69-a6b8-33917c0d40c5",
   "metadata": {},
   "outputs": [],
   "source": [
    "df = df[['Tarih', 'İstanbul günlük tüketim(m³/gün)']]\n",
    "df = df.set_index(\"Tarih\")\n",
    "df.index = pd.to_datetime(df.index)\n",
    "df['İstanbul günlük tüketim(m³/gün)'] = df['İstanbul günlük tüketim(m³/gün)'] // 100\n",
    "df['İstanbul günlük tüketim(m³/gün)'] = df['İstanbul günlük tüketim(m³/gün)'].astype(float)\n",
    "df = np.log(df)"
   ]
  },
  {
   "cell_type": "code",
   "execution_count": 50,
   "id": "e81e33e9-feb4-425a-b797-58efca5e8657",
   "metadata": {},
   "outputs": [],
   "source": [
    "train_size = int(len(df) * 0.80)\n",
    "test_size = len(df) - train_size\n",
    "train, test = df[0:train_size], df[train_size:len(df)]"
   ]
  },
  {
   "cell_type": "code",
   "execution_count": 51,
   "id": "3ea01ec1-2c37-4ac8-8662-916eb7b09364",
   "metadata": {},
   "outputs": [],
   "source": [
    "def create_features(df):\n",
    "    df=df.copy()\n",
    "    df['dayofweek']= df.index.dayofweek\n",
    "    df['quarter']= df.index.quarter\n",
    "    df['month']= df.index.month\n",
    "    df['year']= df.index.year\n",
    "    df['dayofyear']= df.index.dayofyear\n",
    "    return df\n",
    "df=create_features(df)"
   ]
  },
  {
   "cell_type": "code",
   "execution_count": 52,
   "id": "fa524693-d83d-47dd-b7d4-493d74a63416",
   "metadata": {},
   "outputs": [],
   "source": [
    "train=create_features(train)\n",
    "test=create_features(test)\n",
    "FEATURES=['dayofweek','quarter','month','year','dayofyear']\n",
    "TARGET='İstanbul günlük tüketim(m³/gün)'"
   ]
  },
  {
   "cell_type": "code",
   "execution_count": 53,
   "id": "695b92ab-bdc9-4240-a3ad-8fe4182c7f99",
   "metadata": {},
   "outputs": [],
   "source": [
    "X_train=train[FEATURES]\n",
    "y_train=train[TARGET]\n",
    "\n",
    "X_test=test[FEATURES]\n",
    "y_test=test[TARGET]"
   ]
  },
  {
   "cell_type": "code",
   "execution_count": 54,
   "id": "c8223002-5300-449b-8e66-8cb110d881d0",
   "metadata": {},
   "outputs": [],
   "source": [
    "from sklearn.svm import SVR"
   ]
  },
  {
   "cell_type": "code",
   "execution_count": 55,
   "id": "e363309f-89a8-4de0-b4f9-6c056dd9a1d8",
   "metadata": {},
   "outputs": [],
   "source": [
    "svr_model = SVR().fit(X_train, y_train)"
   ]
  },
  {
   "cell_type": "code",
   "execution_count": 56,
   "id": "4eece9e1-c0e6-4cfd-b44f-aad0d6fbc661",
   "metadata": {},
   "outputs": [],
   "source": [
    "#svr_model.predict([[91]])"
   ]
  },
  {
   "cell_type": "code",
   "execution_count": 57,
   "id": "b1f3146b-e5d0-4b9c-b647-2c16fa3727fe",
   "metadata": {},
   "outputs": [],
   "source": [
    "y_pred = svr_model.predict(X_test)"
   ]
  },
  {
   "cell_type": "code",
   "execution_count": null,
   "id": "617bd714-1e6f-4b68-9af1-56ac5d58ef9c",
   "metadata": {},
   "outputs": [],
   "source": []
  },
  {
   "cell_type": "code",
   "execution_count": 58,
   "id": "5ea427ca-b19f-4a13-b7d5-f5508df803e5",
   "metadata": {},
   "outputs": [
    {
     "name": "stdout",
     "output_type": "stream",
     "text": [
      "mse test: 0.018303838842606716\n"
     ]
    }
   ],
   "source": [
    "mse_test=mean_squared_error(y_test,y_pred)\n",
    "#mse_train=mean_squared_error(y_train,y_train_pred)\n",
    "print(f\"mse test: {mse_test}\")\n",
    "#print(f\"mse train: {mse_train}\")"
   ]
  },
  {
   "cell_type": "code",
   "execution_count": 59,
   "id": "d40b607d-13f7-461d-905d-f0af5aa8578e",
   "metadata": {},
   "outputs": [
    {
     "name": "stdout",
     "output_type": "stream",
     "text": [
      "rmse test: 0.1352916806112139\n"
     ]
    }
   ],
   "source": [
    "rmse_test=np.sqrt(mse_test)\n",
    "#rmse_train=np.sqrt(mse_train)\n",
    "print(f\"rmse test: {rmse_test}\")\n",
    "#print(f\"rmse train: {rmse_train}\")"
   ]
  },
  {
   "cell_type": "code",
   "execution_count": 60,
   "id": "ecbfb403-002e-4780-b88a-ae9950f5b244",
   "metadata": {},
   "outputs": [
    {
     "name": "stdout",
     "output_type": "stream",
     "text": [
      "Ortalama Mutlak Hata (MAE): 0.12564264019856042\n"
     ]
    }
   ],
   "source": [
    "mae_test = mean_absolute_error(y_test, y_pred)\n",
    "print(f\"Ortalama Mutlak Hata (MAE): {mae_test}\")"
   ]
  },
  {
   "cell_type": "code",
   "execution_count": 61,
   "id": "0c0895b2-223e-4edc-8caf-0fa6b2032be7",
   "metadata": {},
   "outputs": [
    {
     "name": "stdout",
     "output_type": "stream",
     "text": [
      "Mean Absolute Percentage Error (MAPE) of KNN model: 1.2148213628301614\n"
     ]
    }
   ],
   "source": [
    "def mean_absolute_percentage_error(y_true, y_test_pred):\n",
    "    return np.mean(np.abs((y_true - y_pred) / y_true)) * 100\n",
    "\n",
    "mape = mean_absolute_percentage_error(y_test, y_pred)\n",
    "print(\"Mean Absolute Percentage Error (MAPE) of KNN model:\", mape)"
   ]
  },
  {
   "cell_type": "code",
   "execution_count": null,
   "id": "5376f75b-c84d-4db3-9f63-6f225d5ff25d",
   "metadata": {},
   "outputs": [],
   "source": []
  }
 ],
 "metadata": {
  "kernelspec": {
   "display_name": "Python 3 (ipykernel)",
   "language": "python",
   "name": "python3"
  },
  "language_info": {
   "codemirror_mode": {
    "name": "ipython",
    "version": 3
   },
   "file_extension": ".py",
   "mimetype": "text/x-python",
   "name": "python",
   "nbconvert_exporter": "python",
   "pygments_lexer": "ipython3",
   "version": "3.9.18"
  }
 },
 "nbformat": 4,
 "nbformat_minor": 5
}
