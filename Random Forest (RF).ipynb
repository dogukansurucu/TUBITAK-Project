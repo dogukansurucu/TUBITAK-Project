{
 "cells": [
  {
   "cell_type": "code",
   "execution_count": 6,
   "id": "474c55c4-a28b-4b2d-bf62-468add8d6ab4",
   "metadata": {},
   "outputs": [],
   "source": [
    "import pandas as pd\n",
    "import numpy as np\n",
    "import matplotlib.pyplot as plt\n",
    "import seaborn as sns\n",
    "from sklearn.ensemble import RandomForestRegressor\n",
    "from sklearn.model_selection import train_test_split,GridSearchCV\n",
    "from sklearn.metrics import r2_score, mean_absolute_error, mean_squared_error"
   ]
  },
  {
   "cell_type": "code",
   "execution_count": 7,
   "id": "4bec617d-53a6-4642-8fad-3bcd7a7d0dc4",
   "metadata": {},
   "outputs": [],
   "source": [
    "df=pd.read_excel(\"rainfall-and-daily-consumption-data-on-istanbul-dams.xlsx\")"
   ]
  },
  {
   "cell_type": "code",
   "execution_count": 8,
   "id": "ce11498e-c357-4489-9636-df2ac6b6efac",
   "metadata": {},
   "outputs": [],
   "source": [
    "df = df[['Tarih', 'İstanbul günlük tüketim(m³/gün)']]\n",
    "df = df.set_index(\"Tarih\")\n",
    "df.index = pd.to_datetime(df.index)\n",
    "df['İstanbul günlük tüketim(m³/gün)'] = df['İstanbul günlük tüketim(m³/gün)'] // 100\n",
    "df['İstanbul günlük tüketim(m³/gün)'] = df['İstanbul günlük tüketim(m³/gün)'].astype(float)\n",
    "df = np.log(df)"
   ]
  },
  {
   "cell_type": "code",
   "execution_count": 9,
   "id": "7bf247a8-cc24-4c8b-a481-80b0a660e19f",
   "metadata": {},
   "outputs": [],
   "source": [
    "train_size = int(len(df) * 0.80)\n",
    "test_size = len(df) - train_size\n",
    "train, test = df[0:train_size], df[train_size:len(df)]"
   ]
  },
  {
   "cell_type": "code",
   "execution_count": 10,
   "id": "5fd938bb-f037-43a1-867e-1a155d8e00b8",
   "metadata": {},
   "outputs": [],
   "source": [
    "def create_features(df):\n",
    "    df=df.copy()\n",
    "    df['dayofweek']= df.index.dayofweek\n",
    "    df['quarter']= df.index.quarter\n",
    "    df['month']= df.index.month\n",
    "    df['year']= df.index.year\n",
    "    df['dayofyear']= df.index.dayofyear\n",
    "    return df\n",
    "df=create_features(df)"
   ]
  },
  {
   "cell_type": "code",
   "execution_count": 11,
   "id": "ed9093d4-2c0d-4cf5-b9b3-b9d178077466",
   "metadata": {},
   "outputs": [],
   "source": [
    "train=create_features(train)\n",
    "test=create_features(test)\n",
    "FEATURES=['dayofweek','quarter','month','year','dayofyear']\n",
    "TARGET='İstanbul günlük tüketim(m³/gün)'"
   ]
  },
  {
   "cell_type": "code",
   "execution_count": 12,
   "id": "c40419a8-2b3f-43fb-b7e0-7eca5ca6545b",
   "metadata": {},
   "outputs": [],
   "source": [
    "X_train=train[FEATURES]\n",
    "y_train=train[TARGET]\n",
    "\n",
    "X_test=test[FEATURES]\n",
    "y_test=test[TARGET]"
   ]
  },
  {
   "cell_type": "code",
   "execution_count": 13,
   "id": "aee9c64f-3049-49ba-8a46-150b2ddc1878",
   "metadata": {},
   "outputs": [],
   "source": [
    "rf_model = RandomForestRegressor(random_state = 42)"
   ]
  },
  {
   "cell_type": "code",
   "execution_count": 14,
   "id": "72a14de7-da90-4afc-b94c-1fd952245226",
   "metadata": {},
   "outputs": [],
   "source": [
    "rf_model_fit=rf_model.fit(X_train, y_train)"
   ]
  },
  {
   "cell_type": "markdown",
   "id": "b57033d2-e1ee-4504-8bb3-181934ae69e7",
   "metadata": {},
   "source": [
    "## Tahmin"
   ]
  },
  {
   "cell_type": "code",
   "execution_count": 15,
   "id": "9ff6b4b7-aaff-46ca-8475-220cc274fd45",
   "metadata": {},
   "outputs": [],
   "source": [
    "y_test_pred = rf_model_fit.predict(X_test)\n",
    "#y_train_pred = rf_model_fit.predict(X_train)"
   ]
  },
  {
   "cell_type": "code",
   "execution_count": 16,
   "id": "a6dd0a66-df1f-4417-b6b5-44a768549dca",
   "metadata": {},
   "outputs": [
    {
     "data": {
      "text/plain": [
       "array([10.24001958, 10.23976606, 10.23998967, 10.23352432, 10.2314912 ,\n",
       "       10.22238144, 10.22358501, 10.22769216, 10.23063916, 10.23543277,\n",
       "       10.23379416, 10.23045432, 10.24407622, 10.28668816, 10.30022752,\n",
       "       10.30218316, 10.31207215, 10.32125752, 10.32315696, 10.32483983,\n",
       "       10.33037478, 10.31854273, 10.31718893, 10.30038204, 10.27272513,\n",
       "       10.2481035 , 10.25238925, 10.24789236, 10.25634942, 10.25793765,\n",
       "       10.27158366, 10.28348345, 10.264353  , 10.26831396, 10.26437407,\n",
       "       10.26776291, 10.27395341, 10.29385094, 10.30448943, 10.30015648,\n",
       "       10.33294013, 10.36002174, 10.35760823, 10.35170152, 10.35107186,\n",
       "       10.34561311, 10.34934622, 10.33167373, 10.32905151, 10.32335094,\n",
       "       10.32170557, 10.31156812, 10.29610787, 10.30659496, 10.2990501 ,\n",
       "       10.29780646, 10.2923064 , 10.29306223, 10.30963324, 10.3198152 ,\n",
       "       10.31505502, 10.33053693, 10.35099785, 10.37527119, 10.3744637 ,\n",
       "       10.38351736, 10.3808684 , 10.37963867, 10.3807099 , 10.37953161,\n",
       "       10.38228763, 10.35586769, 10.36042908, 10.35523704, 10.33625696,\n",
       "       10.33068219, 10.33066952, 10.3395052 , 10.34331502, 10.35026424,\n",
       "       10.35102686, 10.3538888 , 10.35841873, 10.35795152, 10.36102776,\n",
       "       10.36230016, 10.36718101, 10.3600944 , 10.37126222, 10.37178684,\n",
       "       10.37572493, 10.37819816, 10.37506371, 10.37445602, 10.31188179,\n",
       "       10.3200184 , 10.32309814, 10.33477715, 10.34491007, 10.34407157,\n",
       "       10.34226089, 10.35420029, 10.36080635, 10.37102986, 10.38192968,\n",
       "       10.38597145, 10.38086743, 10.37365561, 10.37065116, 10.37403339,\n",
       "       10.37465545, 10.38046391, 10.37503257, 10.36154419, 10.35642397,\n",
       "       10.35275013, 10.36371069, 10.36683535, 10.37121445, 10.37064161,\n",
       "       10.37578514, 10.38156556, 10.38193978, 10.38502319, 10.38933865,\n",
       "       10.40037931, 10.39933335, 10.3790165 , 10.37613122, 10.37175751,\n",
       "       10.38351138, 10.37259082, 10.37978539, 10.3721057 , 10.37811771,\n",
       "       10.36808182, 10.3699079 , 10.38759239, 10.38730042, 10.39026039,\n",
       "       10.38770449, 10.37491663, 10.36396149, 10.36452813, 10.35886337,\n",
       "       10.34603107, 10.34960929, 10.35288432, 10.35977486, 10.35729063,\n",
       "       10.3652397 , 10.35531335, 10.35608012, 10.35315702, 10.33263127,\n",
       "       10.32766577, 10.32984458, 10.33158417, 10.33668782, 10.33784617,\n",
       "       10.33287796, 10.32989525, 10.30357195, 10.28820072, 10.29589313,\n",
       "       10.28286663, 10.28858699, 10.29476655, 10.28979786, 10.28109858,\n",
       "       10.28970492, 10.29685148, 10.28637232, 10.27678379, 10.28271155,\n",
       "       10.2830687 , 10.27824241, 10.3027123 , 10.30681068, 10.29249997,\n",
       "       10.29069906, 10.29120667, 10.28590469, 10.27911352, 10.27679805,\n",
       "       10.26134363, 10.26479808, 10.24792896, 10.2503486 , 10.24780439,\n",
       "       10.24830634, 10.2488544 , 10.25981155, 10.27716936, 10.26427418,\n",
       "       10.26505123, 10.26357389, 10.26153856, 10.26140524, 10.25510958,\n",
       "       10.27008399, 10.2591902 , 10.26050928, 10.25696829, 10.2542643 ,\n",
       "       10.25016109, 10.25344592, 10.25527043, 10.2488387 , 10.25195153,\n",
       "       10.2487705 , 10.25972265, 10.25384895, 10.25833172, 10.25576222,\n",
       "       10.24589998, 10.24199416, 10.23495438, 10.23418918, 10.24567114,\n",
       "       10.2593891 , 10.2431142 , 10.2382911 , 10.23589329, 10.23720168,\n",
       "       10.23110637, 10.22325629, 10.24559351, 10.2256356 , 10.21524385,\n",
       "       10.2094641 , 10.21194645, 10.20950499, 10.21921264, 10.24069064,\n",
       "       10.22370597, 10.21658459, 10.21438989, 10.21140236, 10.21220014,\n",
       "       10.21996569, 10.24102737, 10.2202839 , 10.21553124, 10.21761571,\n",
       "       10.21881207, 10.22512498, 10.18962552, 10.22416742, 10.22549024,\n",
       "       10.20049653, 10.19939025, 10.20779179, 10.20854388, 10.20305827,\n",
       "       10.21891369, 10.21559069, 10.19083659, 10.18370247, 10.18916009,\n",
       "       10.18955754, 10.18761224, 10.213597  , 10.21220214, 10.19803923,\n",
       "       10.21005768, 10.22183856, 10.21994471, 10.23596406, 10.24170261,\n",
       "       10.22507573, 10.21320023, 10.20886484, 10.20432445, 10.20397437,\n",
       "       10.20885616, 10.22164063, 10.21911312, 10.21409706, 10.21240257,\n",
       "       10.21886509, 10.21972908, 10.21216935, 10.2313851 , 10.21822305,\n",
       "       10.21449913, 10.2113645 , 10.21455541, 10.2087297 , 10.20268859,\n",
       "       10.21516115, 10.20822108, 10.2023889 , 10.21013421, 10.21847106,\n",
       "       10.2170172 , 10.23304577, 10.26710538, 10.2382304 , 10.23145319,\n",
       "       10.22495787, 10.21394578, 10.21755654, 10.24007016, 10.25340807,\n",
       "       10.233454  , 10.2214744 , 10.22224713, 10.2296524 , 10.24257498,\n",
       "       10.23585561, 10.26121941, 10.2364801 , 10.22741567, 10.2226774 ,\n",
       "       10.22012421, 10.21568269, 10.22611792, 10.26797854, 10.23003379,\n",
       "       10.21272088, 10.20586123, 10.20577802, 10.21368408, 10.21782182,\n",
       "       10.24824196, 10.22234513, 10.20364854, 10.2033867 , 10.21044513,\n",
       "       10.21745506, 10.22237757, 10.26717651, 10.21934906, 10.2047032 ,\n",
       "       10.20756468, 10.21646004, 10.22365886, 10.23620803, 10.25227023,\n",
       "       10.20576321, 10.20822438, 10.22445535, 10.22152001, 10.20581587,\n",
       "       10.22402046, 10.25904812, 10.22933409, 10.23010964, 10.22251551,\n",
       "       10.21772454, 10.21070588, 10.21608286, 10.24419451, 10.20840224,\n",
       "       10.21112937, 10.21274071, 10.21530762, 10.22279363, 10.22809986,\n",
       "       10.21527906, 10.22807563, 10.22590633, 10.21964149, 10.22697378,\n",
       "       10.23829242, 10.2406743 , 10.23626116, 10.23337559, 10.23152107,\n",
       "       10.22601039, 10.22961437, 10.22658585, 10.23564961, 10.233403  ,\n",
       "       10.22448621, 10.23278873, 10.24400519, 10.28661715, 10.30066123,\n",
       "       10.30554659, 10.30978524, 10.31988658, 10.31939503, 10.32544012,\n",
       "       10.32022922, 10.31816083, 10.32562593, 10.29958249, 10.25589477,\n",
       "       10.26207092, 10.24924391, 10.2518457 , 10.26696481, 10.27043396,\n",
       "       10.27442783, 10.25747212, 10.2646411 , 10.26570233, 10.27192975,\n",
       "       10.28342821, 10.28481767, 10.29355204, 10.26888527, 10.30152488,\n",
       "       10.33481048, 10.35254772, 10.35391636, 10.35346659, 10.34706148,\n",
       "       10.35258518, 10.35178364, 10.33718745, 10.32371548, 10.31722212,\n",
       "       10.32408041, 10.31162418, 10.30708136, 10.29865932, 10.29789278,\n",
       "       10.29710402, 10.28918   , 10.29635751, 10.31314159, 10.31204187,\n",
       "       10.31385263, 10.33311312, 10.35760987, 10.37366094, 10.37273968,\n",
       "       10.3817539 , 10.38071544, 10.38145784, 10.37972458, 10.38381487,\n",
       "       10.3807954 , 10.3588624 , 10.3555488 , 10.33504157, 10.33692581,\n",
       "       10.33279514, 10.34103714, 10.3426177 , 10.34750124, 10.34257101,\n",
       "       10.34541053, 10.35582552, 10.35747864, 10.35877996, 10.36136891,\n",
       "       10.36277722, 10.35845307, 10.36687184, 10.37145783, 10.37350038,\n",
       "       10.37760972, 10.37513651, 10.37411713, 10.36143715, 10.33883318,\n",
       "       10.32686546, 10.32498362, 10.33812812, 10.33797289, 10.32928617,\n",
       "       10.337905  , 10.35830221, 10.36573616, 10.37226113, 10.38022245,\n",
       "       10.38196555, 10.3714951 , 10.37016264, 10.3791934 , 10.37703275,\n",
       "       10.38054917, 10.3763577 , 10.36740819, 10.36323587, 10.35575776,\n",
       "       10.35788249, 10.36352493, 10.36940135, 10.36830403, 10.36712897,\n",
       "       10.37785513, 10.380407  , 10.37879488, 10.38534076, 10.39240608,\n",
       "       10.39701403, 10.38426452, 10.37768642, 10.37857382, 10.38707741,\n",
       "       10.37935197, 10.3797747 , 10.37948045, 10.37010525, 10.36961403,\n",
       "       10.37072477, 10.38750093, 10.38723371, 10.39044894, 10.38774296,\n",
       "       10.37352965, 10.36555655, 10.36682001, 10.37757025, 10.35917306,\n",
       "       10.35225487, 10.35097672, 10.35338489, 10.35482471, 10.35793672,\n",
       "       10.35927225, 10.35520244, 10.35834576, 10.35316379, 10.33398202,\n",
       "       10.32856794, 10.33096303, 10.33515514, 10.33498618, 10.33180488,\n",
       "       10.33248914, 10.32473799, 10.30843818, 10.29995948, 10.28228048,\n",
       "       10.27946306, 10.28776987, 10.29465754, 10.28266739, 10.29074683,\n",
       "       10.30025148, 10.28670351, 10.27730683, 10.28373287, 10.2855526 ,\n",
       "       10.27909152, 10.29604933, 10.31245072, 10.28251295, 10.28859775,\n",
       "       10.29245106, 10.29289256, 10.2827199 , 10.2910823 , 10.27921788,\n",
       "       10.26880523, 10.24863954, 10.25022526, 10.24935621, 10.2465344 ,\n",
       "       10.25171969, 10.25136728, 10.27308426, 10.26318773, 10.26440923,\n",
       "       10.26537633, 10.26315421, 10.26259519, 10.25956665, 10.27072778,\n",
       "       10.25869341, 10.26036387, 10.25766841, 10.25595858, 10.25280448,\n",
       "       10.25250175, 10.25733411, 10.24868676, 10.25164149, 10.25394169,\n",
       "       10.24985056, 10.2553812 , 10.25932115, 10.25759376, 10.24635884,\n",
       "       10.24871121, 10.2442    , 10.23565338, 10.24148249, 10.25914798,\n",
       "       10.24473323, 10.23818786, 10.23684509, 10.24037264, 10.23779529,\n",
       "       10.22970208, 10.24754908, 10.22966856, 10.21810933, 10.21209834,\n",
       "       10.22132323, 10.2121159 , 10.20755472, 10.24114748, 10.22528204,\n",
       "       10.21475282, 10.21333027, 10.22056796, 10.21358199, 10.21709389,\n",
       "       10.24103603, 10.22083777, 10.21616205, 10.21747778, 10.21947389,\n",
       "       10.22191684, 10.22698735, 10.22416742, 10.22250729, 10.19825975,\n",
       "       10.20301189, 10.20839213, 10.20487327, 10.202976  , 10.2263517 ,\n",
       "       10.21223816, 10.19342798, 10.18782455, 10.19448169, 10.18835485,\n",
       "       10.18987475, 10.21471383, 10.2145356 , 10.19918288, 10.20595057,\n",
       "       10.21437548, 10.22309871, 10.22025277, 10.23044203, 10.22311719,\n",
       "       10.21309246, 10.22003392, 10.21393741, 10.2045293 , 10.20665652,\n",
       "       10.22235371, 10.21480334, 10.2086465 , 10.21268907, 10.21822019,\n",
       "       10.21720603, 10.21912871, 10.23201594, 10.21815053, 10.20924425,\n",
       "       10.20889405, 10.21296395, 10.20773151, 10.20769364, 10.22043238,\n",
       "       10.20581939, 10.20556412, 10.20875845, 10.21447028, 10.21751892,\n",
       "       10.22805412, 10.25861309, 10.23700721, 10.22673512, 10.22421301,\n",
       "       10.2218099 , 10.21838457, 10.23723251, 10.24796085, 10.2364769 ,\n",
       "       10.22410544, 10.22206251, 10.22564255, 10.23741796, 10.23470938,\n",
       "       10.26075121, 10.23629373, 10.22798888, 10.22600358, 10.22430088,\n",
       "       10.22355206, 10.22364705, 10.26865923, 10.22948932, 10.21486622,\n",
       "       10.21093516, 10.20736153, 10.21296063, 10.21753731, 10.25049005,\n",
       "       10.22197709, 10.20442461, 10.20408038, 10.20980199, 10.21601935,\n",
       "       10.22209425, 10.26785726, 10.21935891, 10.20584528, 10.20861114,\n",
       "       10.21343141, 10.21932909, 10.23539685, 10.25146783, 10.21117306,\n",
       "       10.21048988, 10.21212887, 10.21827679, 10.22134662, 10.22716498,\n",
       "       10.25625658, 10.22103145, 10.22441169, 10.22896626, 10.21865866,\n",
       "       10.21477834, 10.22054297, 10.2467338 , 10.20873779, 10.21065056,\n",
       "       10.21213138, 10.21194505, 10.21526049, 10.22325138, 10.24125583,\n",
       "       10.23223937, 10.22657457, 10.22166229, 10.22558423, 10.22474735,\n",
       "       10.2387166 , 10.23832085, 10.23821955, 10.23284605, 10.23527048,\n",
       "       10.23222575, 10.22877664, 10.23137689, 10.23275638, 10.22070676,\n",
       "       10.22759299, 10.23503171, 10.24695494, 10.28751044, 10.30323166,\n",
       "       10.30356638, 10.31053369, 10.31716854, 10.31940128, 10.31566711,\n",
       "       10.32014209, 10.32690947, 10.32407727, 10.29990186, 10.26772112,\n",
       "       10.25837291, 10.25175338, 10.26442076, 10.2744058 , 10.27085323,\n",
       "       10.24614975, 10.26002462, 10.25986596, 10.2724333 , 10.28619324,\n",
       "       10.29940101, 10.28715443, 10.25908726, 10.26586067, 10.30449815,\n",
       "       10.33157197, 10.34954783, 10.35520881, 10.35121282, 10.35374935,\n",
       "       10.35527365, 10.35454115, 10.33312394, 10.31790567, 10.31959696,\n",
       "       10.32226417, 10.3200979 , 10.30079524, 10.2982674 , 10.29748533,\n",
       "       10.29182821, 10.29410305, 10.30180671, 10.30680601, 10.30991068,\n",
       "       10.31738995, 10.3358811 , 10.35352695, 10.37197026, 10.37153856,\n",
       "       10.38093707, 10.38247313, 10.38146352, 10.38427855, 10.38265681,\n",
       "       10.37723579, 10.35832252, 10.33826819, 10.33665721, 10.33792032,\n",
       "       10.34455686, 10.34401543, 10.34760052, 10.33934957, 10.32879085,\n",
       "       10.34721283, 10.354652  , 10.35854098, 10.35907292, 10.36027664,\n",
       "       10.35612376, 10.36352109, 10.36737579, 10.37253829, 10.37457062,\n",
       "       10.37508678, 10.37510443, 10.3603172 , 10.38161625, 10.34436202,\n",
       "       10.32914018, 10.32867876, 10.3305421 , 10.32030796, 10.31849845,\n",
       "       10.34293075, 10.36363388, 10.36772067, 10.37196541, 10.37589797,\n",
       "       10.37153447, 10.36617863, 10.3800095 , 10.38331375, 10.3807205 ,\n",
       "       10.37626214, 10.37132804, 10.36749152, 10.36249457, 10.36323696,\n",
       "       10.35852416, 10.36700261, 10.36522255, 10.36188069, 10.37103352,\n",
       "       10.37701332, 10.37576352, 10.37824893, 10.38749956, 10.39005895,\n",
       "       10.38374902, 10.383175  , 10.38024109, 10.39781644, 10.38501438,\n",
       "       10.38632427, 10.37954488, 10.37128003, 10.3684419 , 10.3731515 ,\n",
       "       10.3882081 , 10.38423362, 10.39142092, 10.38805102, 10.37438949,\n",
       "       10.36267965, 10.36861681, 10.38438972, 10.37709968, 10.36480214,\n",
       "       10.35260165, 10.35102427, 10.34903651, 10.35466055, 10.35306734,\n",
       "       10.35926464, 10.35751868, 10.3589585 , 10.35513313, 10.33363488,\n",
       "       10.32987493, 10.33512665, 10.33341531, 10.3286976 , 10.33159091,\n",
       "       10.33189167, 10.32729066, 10.31477098, 10.29491692, 10.27884966,\n",
       "       10.28025995, 10.28764181, 10.28421588, 10.2951445 , 10.30719934,\n",
       "       10.2876041 , 10.27993488, 10.2852097 , 10.28620316, 10.28416467,\n",
       "       10.29215845, 10.30604658, 10.28426351, 10.2751113 , 10.29223823,\n",
       "       10.29446042, 10.28802999, 10.29375875, 10.2931248 , 10.27824176,\n",
       "       10.25607879, 10.25085919, 10.24911481, 10.24808622, 10.25089738,\n",
       "       10.25244398, 10.26511962, 10.25890006, 10.26427918, 10.2646678 ,\n",
       "       10.26508321, 10.26399768, 10.26195728, 10.27410646, 10.25942239,\n",
       "       10.25996139, 10.25779767, 10.25661695, 10.25504586, 10.25204618,\n",
       "       10.25989612, 10.2505318 , 10.25103843, 10.25272716, 10.25502658,\n",
       "       10.24863306, 10.25833494, 10.25634088])"
      ]
     },
     "execution_count": 16,
     "metadata": {},
     "output_type": "execute_result"
    }
   ],
   "source": [
    "rf_model_fit.predict(X_test)"
   ]
  },
  {
   "cell_type": "code",
   "execution_count": 17,
   "id": "0f7556b5-84e2-4510-9002-8cb57b119414",
   "metadata": {},
   "outputs": [
    {
     "data": {
      "text/plain": [
       "943"
      ]
     },
     "execution_count": 17,
     "metadata": {},
     "output_type": "execute_result"
    }
   ],
   "source": [
    "len(rf_model_fit.predict(X_test))"
   ]
  },
  {
   "cell_type": "code",
   "execution_count": 18,
   "id": "05cb698a-e0b6-40e4-8e0d-d8779b6e2f54",
   "metadata": {},
   "outputs": [
    {
     "name": "stdout",
     "output_type": "stream",
     "text": [
      "mse test: 0.003065536356659849\n"
     ]
    }
   ],
   "source": [
    "mse_test=mean_squared_error(y_test,y_test_pred)\n",
    "#mse_train=mean_squared_error(y_train,y_train_pred)\n",
    "print(f\"mse test: {mse_test}\")\n",
    "#print(f\"mse train: {mse_train}\")"
   ]
  },
  {
   "cell_type": "code",
   "execution_count": 19,
   "id": "1b1708ee-c7b1-4727-b134-d752bb6b62c9",
   "metadata": {},
   "outputs": [
    {
     "name": "stdout",
     "output_type": "stream",
     "text": [
      "rmse test: 0.055367285978814684\n"
     ]
    }
   ],
   "source": [
    "rmse_test=np.sqrt(mse_test)\n",
    "#rmse_train=np.sqrt(mse_train)\n",
    "print(f\"rmse test: {rmse_test}\")\n",
    "#print(f\"rmse train: {rmse_train}\")"
   ]
  },
  {
   "cell_type": "code",
   "execution_count": 20,
   "id": "d77d31a5-d92e-47b7-ba84-f4b593d4b04f",
   "metadata": {},
   "outputs": [
    {
     "name": "stdout",
     "output_type": "stream",
     "text": [
      "Ortalama Mutlak Hata (MAE): 0.046038285139108424\n"
     ]
    }
   ],
   "source": [
    "mae_test = mean_absolute_error(y_test, y_test_pred)\n",
    "print(f\"Ortalama Mutlak Hata (MAE): {mae_test}\")"
   ]
  },
  {
   "cell_type": "code",
   "execution_count": 21,
   "id": "194f254e-aeea-4d20-b13f-012e76c597c6",
   "metadata": {},
   "outputs": [
    {
     "name": "stdout",
     "output_type": "stream",
     "text": [
      "Mean Absolute Percentage Error (MAPE) of KNN model: 0.44579762610116497\n"
     ]
    }
   ],
   "source": [
    "def mean_absolute_percentage_error(y_true, y_test_pred):\n",
    "    return np.mean(np.abs((y_true - y_test_pred) / y_true)) * 100\n",
    "\n",
    "mape = mean_absolute_percentage_error(y_test, y_test_pred)\n",
    "print(\"Mean Absolute Percentage Error (MAPE) of KNN model:\", mape)"
   ]
  },
  {
   "cell_type": "code",
   "execution_count": null,
   "id": "d18b5920-7910-4daa-abaa-ee7a3ace4434",
   "metadata": {},
   "outputs": [],
   "source": []
  },
  {
   "cell_type": "code",
   "execution_count": null,
   "id": "ecac0a8b-ac2e-41c5-9861-cbc9c6ee052a",
   "metadata": {},
   "outputs": [],
   "source": []
  },
  {
   "cell_type": "code",
   "execution_count": 32,
   "id": "54cf0a4a-f498-4475-bea4-0a82df1af30b",
   "metadata": {},
   "outputs": [
    {
     "name": "stdout",
     "output_type": "stream",
     "text": [
      "R-Squared: 0.8472891117402648\n",
      "R-Squared: 0.9948511592507215\n"
     ]
    }
   ],
   "source": [
    "r2_test = rf_model_fit.score(X_test, y_test)\n",
    "r2_train = rf_model_fit.score(X_train,y_train)\n",
    "print(f\"R-Squared: {r2_test}\")\n",
    "print(f\"R-Squared: {r2_train}\")"
   ]
  },
  {
   "cell_type": "code",
   "execution_count": null,
   "id": "e9629105-5c08-4a80-9c8f-2f3bcf4f7c84",
   "metadata": {},
   "outputs": [],
   "source": []
  },
  {
   "cell_type": "code",
   "execution_count": null,
   "id": "f5829aa7-a8bc-4b93-9073-f5b6128097e7",
   "metadata": {},
   "outputs": [],
   "source": []
  },
  {
   "cell_type": "markdown",
   "id": "63cc89b7-366d-4c2c-a919-ae2bc4c7329b",
   "metadata": {},
   "source": [
    "## Model Tuning"
   ]
  },
  {
   "cell_type": "code",
   "execution_count": null,
   "id": "aa00c319-ee55-4f0c-9f13-0ce88e0fe76f",
   "metadata": {},
   "outputs": [],
   "source": [
    "rf_params = {'max_depth': list(range(1,10)),\n",
    "            'max_features': [3,5,10,15],\n",
    "            'n_estimators' : [100, 200, 500, 1000, 2000]}"
   ]
  },
  {
   "cell_type": "code",
   "execution_count": null,
   "id": "7f0c4676-38b6-4f78-903a-448493a68c2d",
   "metadata": {},
   "outputs": [],
   "source": [
    "rf_model = RandomForestRegressor(random_state = 42)"
   ]
  },
  {
   "cell_type": "code",
   "execution_count": null,
   "id": "3ee0a898-048c-48d8-b609-57a18a897d9a",
   "metadata": {},
   "outputs": [],
   "source": [
    "rf_cv_model = GridSearchCV(rf_model, \n",
    "                           rf_params, \n",
    "                           cv = 10, \n",
    "                            n_jobs = -1)"
   ]
  },
  {
   "cell_type": "code",
   "execution_count": null,
   "id": "e8fb091c-f7ec-4031-b4a8-86239730d783",
   "metadata": {},
   "outputs": [],
   "source": [
    "rf_cv_model.fit(X_train, y_train)"
   ]
  },
  {
   "cell_type": "code",
   "execution_count": null,
   "id": "efbcc4c6-cb1e-4ded-9eee-90abd12aa3b0",
   "metadata": {},
   "outputs": [],
   "source": [
    "rf_cv_model.best_params_"
   ]
  },
  {
   "cell_type": "code",
   "execution_count": null,
   "id": "c8c68e40-78bc-4a5b-8ab1-0ac2e07623d0",
   "metadata": {},
   "outputs": [],
   "source": [
    "rf_tuned = RandomForestRegressor(max_depth  = 6, \n",
    "                                 max_features = 10, \n",
    "                                 n_estimators =100)"
   ]
  },
  {
   "cell_type": "code",
   "execution_count": null,
   "id": "04c8935d-c6cb-49e9-b86e-007f1981ed11",
   "metadata": {},
   "outputs": [],
   "source": [
    "rf_tuned.fit(X_train, y_train)"
   ]
  },
  {
   "cell_type": "code",
   "execution_count": null,
   "id": "49dce626-9102-4af0-a280-52bef931386e",
   "metadata": {},
   "outputs": [],
   "source": [
    "y_pred = rf_tuned.predict(X_test)"
   ]
  },
  {
   "cell_type": "code",
   "execution_count": null,
   "id": "e6e219ea-5a97-4cb4-996c-680bc634bff6",
   "metadata": {},
   "outputs": [],
   "source": [
    "np.sqrt(mean_squared_error(y_test, y_pred))"
   ]
  },
  {
   "cell_type": "code",
   "execution_count": 22,
   "id": "0b07e887-5321-450c-9ebe-15ae80bf8e30",
   "metadata": {},
   "outputs": [],
   "source": [
    "Importance = pd.DataFrame({\"Importance\": rf_tuned.feature_importances_*100},\n",
    "                         index = X_train.columns)"
   ]
  },
  {
   "cell_type": "code",
   "execution_count": 23,
   "id": "8556a4f4-3967-4ad0-82d5-6d30b147d142",
   "metadata": {},
   "outputs": [
    {
     "data": {
      "text/plain": [
       "Text(0.5, 0, 'Değişken Önem Düzeyleri')"
      ]
     },
     "execution_count": 23,
     "metadata": {},
     "output_type": "execute_result"
    },
    {
     "data": {
      "image/png": "[encoded data removed]",
      "text/plain": [
       "<Figure size 640x480 with 1 Axes>"
      ]
     },
     "metadata": {},
     "output_type": "display_data"
    }
   ],
   "source": [
    "Importance.sort_values(by = \"Importance\", \n",
    "                       axis = 0, \n",
    "                       ascending = True).plot(kind =\"barh\", color = \"r\")\n",
    "\n",
    "plt.xlabel(\"Değişken Önem Düzeyleri\")"
   ]
  },
  {
   "cell_type": "code",
   "execution_count": null,
   "id": "833e3dbe-2d6e-42ac-bfb8-7cab08846c4f",
   "metadata": {},
   "outputs": [],
   "source": []
  },
  {
   "cell_type": "code",
   "execution_count": null,
   "id": "682116e2-a547-4848-a4c4-5ad3fd7cf631",
   "metadata": {},
   "outputs": [],
   "source": []
  },
  {
   "cell_type": "code",
   "execution_count": null,
   "id": "43e6e98e-4551-4c05-913a-ee5d775b1185",
   "metadata": {},
   "outputs": [],
   "source": []
  },
  {
   "cell_type": "code",
   "execution_count": null,
   "id": "d09f9814-8678-45fc-bb64-13fc046d6dec",
   "metadata": {},
   "outputs": [],
   "source": []
  },
  {
   "cell_type": "code",
   "execution_count": null,
   "id": "20a0c0bc-a232-41f6-a25a-1b326944968a",
   "metadata": {},
   "outputs": [],
   "source": []
  },
  {
   "cell_type": "code",
   "execution_count": null,
   "id": "e9e0eed3-9f04-4721-af90-9a12b71cd3a5",
   "metadata": {},
   "outputs": [],
   "source": []
  },
  {
   "cell_type": "code",
   "execution_count": null,
   "id": "e403f8d5-9c0a-4422-9489-7e4646a8df58",
   "metadata": {},
   "outputs": [],
   "source": []
  },
  {
   "cell_type": "code",
   "execution_count": null,
   "id": "b04a34ac-efc2-4606-bbdb-0ba26a1452e5",
   "metadata": {},
   "outputs": [],
   "source": []
  },
  {
   "cell_type": "code",
   "execution_count": null,
   "id": "1eb7f071-31bd-4643-b54b-06a0d81e548c",
   "metadata": {},
   "outputs": [],
   "source": []
  },
  {
   "cell_type": "code",
   "execution_count": null,
   "id": "54a28cde-faa1-482c-a0da-db4152428eda",
   "metadata": {},
   "outputs": [],
   "source": []
  }
 ],
 "metadata": {
  "kernelspec": {
   "display_name": "Python 3 (ipykernel)",
   "language": "python",
   "name": "python3"
  },
  "language_info": {
   "codemirror_mode": {
    "name": "ipython",
    "version": 3
   },
   "file_extension": ".py",
   "mimetype": "text/x-python",
   "name": "python",
   "nbconvert_exporter": "python",
   "pygments_lexer": "ipython3",
   "version": "3.9.18"
  }
 },
 "nbformat": 4,
 "nbformat_minor": 5
}
