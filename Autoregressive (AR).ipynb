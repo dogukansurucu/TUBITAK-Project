{
 "cells": [
  {
   "cell_type": "code",
   "execution_count": 3,
   "id": "00f30ced-1f20-4534-a75a-a47de25bbe95",
   "metadata": {},
   "outputs": [
    {
     "name": "stdout",
     "output_type": "stream",
     "text": [
      "                                   AutoReg Model Results                                   \n",
      "===========================================================================================\n",
      "Dep. Variable:     İstanbul günlük tüketim(m³/gün)   No. Observations:                 3771\n",
      "Model:                                  AutoReg(1)   Log Likelihood                7775.609\n",
      "Method:                            Conditional MLE   S.D. of innovations              0.031\n",
      "Date:                             Tue, 30 Apr 2024   AIC                         -15545.219\n",
      "Time:                                     20:46:17   BIC                         -15526.514\n",
      "Sample:                                 01-02-2011   HQIC                        -15538.569\n",
      "                                      - 04-28-2021                                         \n",
      "======================================================================================================\n",
      "                                         coef    std err          z      P>|z|      [0.025      0.975]\n",
      "------------------------------------------------------------------------------------------------------\n",
      "const                                  0.4569      0.049      9.371      0.000       0.361       0.553\n",
      "İstanbul günlük tüketim(m³/gün).L1     0.9551      0.005    199.453      0.000       0.946       0.965\n",
      "                                    Roots                                    \n",
      "=============================================================================\n",
      "                  Real          Imaginary           Modulus         Frequency\n",
      "-----------------------------------------------------------------------------\n",
      "AR.1            1.0470           +0.0000j            1.0470            0.0000\n",
      "-----------------------------------------------------------------------------\n",
      "Mean Squared Error (MSE): 0.0227\n",
      "Root Mean Squared Error (RMSE): 0.1506\n",
      "Mean Absolute Error (MAE): 0.1377\n",
      "Mean Absolute Percentage Error (MAPE): 1.3303\n"
     ]
    },
    {
     "name": "stderr",
     "output_type": "stream",
     "text": [
      "C:\\Users\\DOGUKAN\\anaconda3\\envs\\tensorflow\\lib\\site-packages\\statsmodels\\tsa\\base\\tsa_model.py:473: ValueWarning: No frequency information was provided, so inferred frequency D will be used.\n",
      "  self._init_dates(dates, freq)\n",
      "C:\\Users\\DOGUKAN\\anaconda3\\envs\\tensorflow\\lib\\site-packages\\statsmodels\\tsa\\deterministic.py:302: UserWarning: Only PeriodIndexes, DatetimeIndexes with a frequency set, RangesIndexes, and Index with a unit increment support extending. The index is set will contain the position relative to the data length.\n",
      "  fcast_index = self._extend_index(index, steps, forecast_index)\n"
     ]
    }
   ],
   "source": [
    "import pandas as pd\n",
    "import numpy as np\n",
    "import matplotlib.pyplot as plt\n",
    "import seaborn as sns\n",
    "from statsmodels.tsa.ar_model import AutoReg\n",
    "from sklearn.metrics import mean_squared_error, mean_absolute_error, mean_absolute_percentage_error\n",
    "\n",
    "# Veri setini yükleme ve hazırlama\n",
    "df = pd.read_excel(\"rainfall-and-daily-consumption-data-on-istanbul-dams.xlsx\")\n",
    "df = df[['Tarih', 'İstanbul günlük tüketim(m³/gün)']]\n",
    "df = df.set_index(\"Tarih\")\n",
    "df.index = pd.to_datetime(df.index)\n",
    "df['İstanbul günlük tüketim(m³/gün)'] = df['İstanbul günlük tüketim(m³/gün)'] // 100\n",
    "df['İstanbul günlük tüketim(m³/gün)'] = df['İstanbul günlük tüketim(m³/gün)'].astype(float)\n",
    "df = np.log(df)\n",
    "\n",
    "# Eğitim ve test setlerini oluşturma\n",
    "train_size = int(len(df) * 0.80)\n",
    "test_size = len(df) - train_size\n",
    "train, test = df[0:train_size], df[train_size:len(df)]\n",
    "\n",
    "# AR modelini oluşturma\n",
    "lag = 1  # Lag değeri (önceki adımların sayısı)\n",
    "ar_model = AutoReg(train['İstanbul günlük tüketim(m³/gün)'], lags=lag)\n",
    "ar_model_fit = ar_model.fit()\n",
    "print(ar_model_fit.summary())\n",
    "\n",
    "# Test seti üzerinde tahmin yapma\n",
    "predictions = ar_model_fit.predict(start=test.index[0], end=test.index[-1])\n",
    "\n",
    "# Hataları hesaplama\n",
    "mse = mean_squared_error(test['İstanbul günlük tüketim(m³/gün)'], predictions)\n",
    "print(\"Mean Squared Error (MSE): {:.4f}\".format(mse))\n",
    "\n",
    "rmse = np.sqrt(mse)\n",
    "print(\"Root Mean Squared Error (RMSE): {:.4f}\".format(rmse))\n",
    "\n",
    "mae = mean_absolute_error(test['İstanbul günlük tüketim(m³/gün)'], predictions)\n",
    "print(\"Mean Absolute Error (MAE): {:.4f}\".format(mae))\n",
    "\n",
    "mape = mean_absolute_percentage_error(test['İstanbul günlük tüketim(m³/gün)'], predictions)\n",
    "print(\"Mean Absolute Percentage Error (MAPE): {:.4f}\".format(mape*100))\n",
    "\n"
   ]
  },
  {
   "cell_type": "code",
   "execution_count": 5,
   "id": "5d37623c-f26e-4870-ae9a-3a5c17510bf8",
   "metadata": {},
   "outputs": [
    {
     "data": {
      "text/plain": [
       "2021-04-29    10.206769\n",
       "2021-04-30    10.205708\n",
       "2021-05-01    10.204695\n",
       "2021-05-02    10.203727\n",
       "2021-05-03    10.202803\n",
       "                ...    \n",
       "2023-11-23    10.183130\n",
       "2023-11-24    10.183130\n",
       "2023-11-25    10.183130\n",
       "2023-11-26    10.183130\n",
       "2023-11-27    10.183130\n",
       "Freq: D, Length: 943, dtype: float64"
      ]
     },
     "execution_count": 5,
     "metadata": {},
     "output_type": "execute_result"
    }
   ],
   "source": [
    "predictions"
   ]
  },
  {
   "cell_type": "code",
   "execution_count": 6,
   "id": "587849de-f1b9-442e-a3fd-473a456e1ac4",
   "metadata": {},
   "outputs": [],
   "source": [
    "pred7=predictions"
   ]
  },
  {
   "cell_type": "code",
   "execution_count": 7,
   "id": "c48a0eb9-3c8d-4bd6-a58b-037471a14900",
   "metadata": {},
   "outputs": [
    {
     "data": {
      "text/plain": [
       "943"
      ]
     },
     "execution_count": 7,
     "metadata": {},
     "output_type": "execute_result"
    }
   ],
   "source": [
    "len(pred7)"
   ]
  },
  {
   "cell_type": "code",
   "execution_count": 8,
   "id": "fa6615cb-41da-4935-b772-75744a82e8a6",
   "metadata": {},
   "outputs": [],
   "source": [
    "pred7=np.array(pred7)"
   ]
  }
 ],
 "metadata": {
  "kernelspec": {
   "display_name": "Python 3 (ipykernel)",
   "language": "python",
   "name": "python3"
  },
  "language_info": {
   "codemirror_mode": {
    "name": "ipython",
    "version": 3
   },
   "file_extension": ".py",
   "mimetype": "text/x-python",
   "name": "python",
   "nbconvert_exporter": "python",
   "pygments_lexer": "ipython3",
   "version": "3.9.18"
  }
 },
 "nbformat": 4,
 "nbformat_minor": 5
}
