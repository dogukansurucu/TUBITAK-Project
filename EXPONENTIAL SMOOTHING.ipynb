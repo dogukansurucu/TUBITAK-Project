{
 "cells": [
  {
   "cell_type": "code",
   "execution_count": 1,
   "id": "c67eb258-8daf-4f20-b56c-7ee3edff33e6",
   "metadata": {},
   "outputs": [
    {
     "name": "stderr",
     "output_type": "stream",
     "text": [
      "C:\\Users\\DOGUKAN\\anaconda3\\envs\\tensorflow\\lib\\site-packages\\statsmodels\\tsa\\base\\tsa_model.py:473: ValueWarning: No frequency information was provided, so inferred frequency D will be used.\n",
      "  self._init_dates(dates, freq)\n"
     ]
    },
    {
     "name": "stdout",
     "output_type": "stream",
     "text": [
      "                             ExponentialSmoothing Model Results                            \n",
      "===========================================================================================\n",
      "Dep. Variable:     İstanbul günlük tüketim(m³/gün)   No. Observations:                 3771\n",
      "Model:                        ExponentialSmoothing   SSE                              3.001\n",
      "Optimized:                                    True   AIC                         -26888.116\n",
      "Trend:                                    Additive   BIC                         -26819.530\n",
      "Seasonal:                                 Additive   AICC                        -26888.020\n",
      "Seasonal Periods:                                7   Date:                 Tue, 30 Apr 2024\n",
      "Box-Cox:                                     False   Time:                         00:19:40\n",
      "Box-Cox Coeff.:                               None                                         \n",
      "=================================================================================\n",
      "                          coeff                 code              optimized      \n",
      "---------------------------------------------------------------------------------\n",
      "smoothing_level               0.6254206                alpha                 True\n",
      "smoothing_trend              9.6378e-17                 beta                 True\n",
      "smoothing_seasonal             0.000000                gamma                 True\n",
      "initial_level                 9.9600231                  l.0                 True\n",
      "initial_trend                7.0767e-05                  b.0                 True\n",
      "initial_seasons.0             0.0005092                  s.0                 True\n",
      "initial_seasons.1             0.0160820                  s.1                 True\n",
      "initial_seasons.2             0.0007596                  s.2                 True\n",
      "initial_seasons.3            -0.0129803                  s.3                 True\n",
      "initial_seasons.4            -0.0089896                  s.4                 True\n",
      "initial_seasons.5            -0.0037472                  s.5                 True\n",
      "initial_seasons.6            -0.0061900                  s.6                 True\n",
      "---------------------------------------------------------------------------------\n",
      "Mean Squared Error (MSE): 0.0085\n",
      "Root Mean Squared Error (RMSE): 0.0920\n",
      "Mean Absolute Error (MAE): 0.0733\n",
      "Mean Absolute Percentage Error (MAPE): 0.0071\n"
     ]
    }
   ],
   "source": [
    "import pandas as pd\n",
    "import numpy as np\n",
    "import matplotlib.pyplot as plt\n",
    "import seaborn as sns\n",
    "from statsmodels.tsa.holtwinters import ExponentialSmoothing\n",
    "from sklearn.metrics import mean_squared_error, mean_absolute_error, mean_absolute_percentage_error\n",
    "\n",
    "# Veri setini yükleme ve hazırlama\n",
    "df = pd.read_excel(\"rainfall-and-daily-consumption-data-on-istanbul-dams.xlsx\")\n",
    "df = df[['Tarih', 'İstanbul günlük tüketim(m³/gün)']]\n",
    "df = df.set_index(\"Tarih\")\n",
    "df.index = pd.to_datetime(df.index)\n",
    "df['İstanbul günlük tüketim(m³/gün)'] = df['İstanbul günlük tüketim(m³/gün)'] // 100\n",
    "df['İstanbul günlük tüketim(m³/gün)'] = df['İstanbul günlük tüketim(m³/gün)'].astype(float)\n",
    "df = np.log(df)\n",
    "\n",
    "# Eğitim ve test setlerini oluşturma\n",
    "train_size = int(len(df) * 0.80)\n",
    "train, test = df.iloc[:train_size], df.iloc[train_size:]\n",
    "\n",
    "# Exponential Smoothing modelini oluşturma\n",
    "trend = 'add'  # Eğilim bileşeni (additive)\n",
    "seasonal = 'add'  # Mevsimsel bileşen (additive)\n",
    "es_model = ExponentialSmoothing(train['İstanbul günlük tüketim(m³/gün)'], trend=trend, seasonal=seasonal, seasonal_periods=7)\n",
    "es_model_fit = es_model.fit()\n",
    "print(es_model_fit.summary())\n",
    "\n",
    "# Test seti üzerinde tahmin yapma\n",
    "predictions = es_model_fit.predict(start=test.index[0], end=test.index[-1])\n",
    "\n",
    "# Hataları hesaplama\n",
    "mse = mean_squared_error(test['İstanbul günlük tüketim(m³/gün)'], predictions)\n",
    "print(\"Mean Squared Error (MSE): {:.4f}\".format(mse))\n",
    "\n",
    "rmse = np.sqrt(mse)\n",
    "print(\"Root Mean Squared Error (RMSE): {:.4f}\".format(rmse))\n",
    "\n",
    "mae = mean_absolute_error(test['İstanbul günlük tüketim(m³/gün)'], predictions)\n",
    "print(\"Mean Absolute Error (MAE): {:.4f}\".format(mae))\n",
    "\n",
    "mape = mean_absolute_percentage_error(test['İstanbul günlük tüketim(m³/gün)'], predictions)\n",
    "print(\"Mean Absolute Percentage Error (MAPE): {:.4f}\".format(mape))\n"
   ]
  },
  {
   "cell_type": "code",
   "execution_count": 2,
   "id": "ba1d914f-7db9-4d56-9350-94bc004bdbd1",
   "metadata": {},
   "outputs": [
    {
     "data": {
      "text/plain": [
       "2021-04-29    10.216824\n",
       "2021-04-30    10.214452\n",
       "2021-05-01    10.221221\n",
       "2021-05-02    10.236865\n",
       "2021-05-03    10.221613\n",
       "                ...    \n",
       "2023-11-23    10.283203\n",
       "2023-11-24    10.280831\n",
       "2023-11-25    10.287601\n",
       "2023-11-26    10.303244\n",
       "2023-11-27    10.287992\n",
       "Freq: D, Length: 943, dtype: float64"
      ]
     },
     "execution_count": 2,
     "metadata": {},
     "output_type": "execute_result"
    }
   ],
   "source": [
    "predictions"
   ]
  },
  {
   "cell_type": "code",
   "execution_count": 3,
   "id": "cbc94bd0-ebe6-42ee-a49a-7bf139092189",
   "metadata": {},
   "outputs": [],
   "source": [
    "pred8=predictions"
   ]
  },
  {
   "cell_type": "code",
   "execution_count": 4,
   "id": "af90fdc3-058c-400d-b929-7b8881d3bdfc",
   "metadata": {},
   "outputs": [
    {
     "data": {
      "text/plain": [
       "943"
      ]
     },
     "execution_count": 4,
     "metadata": {},
     "output_type": "execute_result"
    }
   ],
   "source": [
    "len(pred8)"
   ]
  },
  {
   "cell_type": "code",
   "execution_count": 5,
   "id": "690a87a9-d715-4a36-a47c-0c61fca0b806",
   "metadata": {},
   "outputs": [],
   "source": [
    "pred8=np.array(pred8)"
   ]
  }
 ],
 "metadata": {
  "kernelspec": {
   "display_name": "Python 3 (ipykernel)",
   "language": "python",
   "name": "python3"
  },
  "language_info": {
   "codemirror_mode": {
    "name": "ipython",
    "version": 3
   },
   "file_extension": ".py",
   "mimetype": "text/x-python",
   "name": "python",
   "nbconvert_exporter": "python",
   "pygments_lexer": "ipython3",
   "version": "3.9.18"
  }
 },
 "nbformat": 4,
 "nbformat_minor": 5
}
